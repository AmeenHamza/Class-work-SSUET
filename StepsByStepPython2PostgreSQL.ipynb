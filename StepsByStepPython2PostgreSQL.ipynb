{
 "cells": [
  {
   "cell_type": "code",
   "execution_count": 8,
   "metadata": {},
   "outputs": [],
   "source": [
    "host_name = \"localhost\"\n",
    "data_base = \"postgres\"\n",
    "user_name = \"postgres\"\n",
    "pwd = \"Hussain@2022\"\n",
    "port_id = 5432"
   ]
  },
  {
   "cell_type": "markdown",
   "metadata": {},
   "source": [
    "All the above data is kept in a configuration file not in the code.\n",
    "\n",
    "We have done it to keep our understanding simple."
   ]
  },
  {
   "cell_type": "raw",
   "metadata": {},
   "source": [
    "in order to connect to database we will use a function called connect present in the psycopg2 module. so import psycopg2 first"
   ]
  },
  {
   "cell_type": "code",
   "execution_count": 1,
   "metadata": {},
   "outputs": [
    {
     "name": "stdout",
     "output_type": "stream",
     "text": [
      "Collecting psycopg2\n",
      "  Downloading psycopg2-2.9.4-cp310-cp310-win_amd64.whl (1.2 MB)\n",
      "     ---------------------------------------- 1.2/1.2 MB 872.8 kB/s eta 0:00:00\n",
      "Installing collected packages: psycopg2\n",
      "Successfully installed psycopg2-2.9.4\n"
     ]
    },
    {
     "name": "stderr",
     "output_type": "stream",
     "text": [
      "\n",
      "[notice] A new release of pip available: 22.2.2 -> 22.3\n",
      "[notice] To update, run: python.exe -m pip install --upgrade pip\n"
     ]
    }
   ],
   "source": [
    "!pip install psycopg2"
   ]
  },
  {
   "cell_type": "code",
   "execution_count": 21,
   "metadata": {},
   "outputs": [],
   "source": [
    "import psycopg2    \n",
    "import psycopg2.extras"
   ]
  },
  {
   "cell_type": "code",
   "execution_count": 12,
   "metadata": {},
   "outputs": [],
   "source": [
    "conn = psycopg2.connect(host=host_name\n",
    "                        , dbname=data_base\n",
    "                        , user=user_name\n",
    "                        , password=pwd\n",
    "                        , port=port_id)"
   ]
  },
  {
   "cell_type": "raw",
   "metadata": {},
   "source": [
    "The above command will open a connection to our data base. \n",
    "Good practice is to close the connection also. \n",
    "or we may forget to close it, it will create problems.\n",
    "Nobody else can access till then. \n",
    "We must make sure that we write all the code here in between open and close of connection"
   ]
  },
  {
   "cell_type": "code",
   "execution_count": 13,
   "metadata": {},
   "outputs": [],
   "source": [
    "conn.close()"
   ]
  },
  {
   "cell_type": "raw",
   "metadata": {},
   "source": [
    "Since we didnot get an error like\n",
    "  - database name error \n",
    "  - password error\n",
    "  - hostname error\n",
    "  - port error\n",
    "  or other type of errors it means everything is working fine till now. \n",
    "  You can try passing wrong attributes to connect function"
   ]
  },
  {
   "cell_type": "raw",
   "metadata": {},
   "source": [
    "# Note: \n",
    "if we pass any of the wrong credential it will through error and our code crashes we need to resolve in such a way that our code may not crash. So we will make use of exceptions"
   ]
  },
  {
   "cell_type": "code",
   "execution_count": 14,
   "metadata": {},
   "outputs": [],
   "source": [
    "try:\n",
    "    conn = psycopg2.connect(host=host_name\n",
    "        , dbname=data_base\n",
    "        , user=user_name\n",
    "        , password=pwd\n",
    "        , port=port_id)\n",
    "    conn.close()\n",
    "except Exception as error:\n",
    "    print(\"Exception: \" + str(error))"
   ]
  },
  {
   "cell_type": "raw",
   "metadata": {},
   "source": [
    "This connect methods open a session in data base and allow us to do trasaction in data base like:\n",
    "DDL DML DCL TCL etc..\n",
    "\n",
    "PDF files add to learn about DDL , DML , DCL , TCL "
   ]
  },
  {
   "cell_type": "raw",
   "metadata": {},
   "source": [
    "In order to do transaction with database we will need to open a cursor.\n",
    "A cursor is some thing that helps you perform the transaction.\n",
    "\n",
    "Its a kind of store values that is returned from those sql operations / transactions\n",
    "\n",
    "Note: We will need to close the cursor as well."
   ]
  },
  {
   "cell_type": "code",
   "execution_count": 34,
   "metadata": {},
   "outputs": [],
   "source": [
    "try:\n",
    "    ######### Connection Object###########\n",
    "    conn = psycopg2.connect(host=host_name\n",
    "        , dbname=data_base\n",
    "        , user=user_name\n",
    "        , password=pwd\n",
    "        , port=port_id)\n",
    "    \n",
    "    ####Cursor opened##########\n",
    "    cur  = conn.cursor()\n",
    "    \n",
    "     \n",
    "    \n",
    "    #Cursor closed## \n",
    "    cur.close()    \n",
    "    ##connection closed##\n",
    "    conn.close()\n",
    "except Exception as error:\n",
    "    print(\"Exception: \" + str(error))"
   ]
  },
  {
   "cell_type": "raw",
   "metadata": {},
   "source": [
    "In the above code there is a logical issue, what if there arises an exception of any kind in our try block, our cursor and connection will not be closed.  "
   ]
  },
  {
   "cell_type": "raw",
   "metadata": {},
   "source": [
    "To avoid this, we have to shuffle a few lines now. and make use of finally block.  "
   ]
  },
  {
   "cell_type": "markdown",
   "metadata": {},
   "source": [
    "#### Remember:\n",
    "Finally always runs\n",
    "So either exception arises or not finally will always run and our cursor and connection will be closed. \n",
    "😀 😃"
   ]
  },
  {
   "cell_type": "code",
   "execution_count": 36,
   "metadata": {},
   "outputs": [],
   "source": [
    "try:\n",
    "    ######### Connection Object###########\n",
    "    conn = psycopg2.connect(host=host_name\n",
    "        , dbname=data_base\n",
    "        , user=user_name\n",
    "        , password=pwd\n",
    "        , port=port_id)\n",
    "    \n",
    "    ####Cursor opened##########\n",
    "    cur  = conn.cursor()\n",
    "    \n",
    "except Exception as error:\n",
    "    print(\"Exception: \" + str(error))\n",
    "finally:\n",
    "    \n",
    "    #Cursor closed## \n",
    "    cur.close()    \n",
    "    ##connection closed##\n",
    "    conn.close()"
   ]
  },
  {
   "cell_type": "markdown",
   "metadata": {},
   "source": [
    "# But"
   ]
  },
  {
   "cell_type": "markdown",
   "metadata": {},
   "source": [
    "Still there is some issue i am noticing, as we say finally will always run what if our connection with db fails and exception occurs there is no \"conn\" and \"cur\" but as soon as finally will run after exception it will definitely try to close cur and conn. So again error:\n",
    "😇"
   ]
  },
  {
   "cell_type": "markdown",
   "metadata": {},
   "source": [
    "lets do some change in the logic:\n",
    "    "
   ]
  },
  {
   "cell_type": "code",
   "execution_count": 16,
   "metadata": {},
   "outputs": [],
   "source": [
    "# assign a None value to both conn and cur\n",
    "conn = None\n",
    "cur  = None\n",
    "try:\n",
    "    ######### Connection Object###########\n",
    "    conn = psycopg2.connect(\n",
    "          host=host_name\n",
    "        , dbname=data_base\n",
    "        , user=user_name\n",
    "        , password=pwd\n",
    "        , port=port_id)\n",
    "    \n",
    "    ####Cursor opened##########\n",
    "    cur  = conn.cursor()\n",
    "    \n",
    "    \n",
    "    \n",
    "    \n",
    "    \n",
    "except Exception as error:\n",
    "    print(\"Exception: \" + str(error))\n",
    "    \n",
    "finally:\n",
    "    \n",
    "    if cur is not None:\n",
    "        cur.close()   \n",
    "        #Cursor closed## \n",
    "        \n",
    "    if conn is not None:\n",
    "        ##connection closed##\n",
    "        conn.close() "
   ]
  },
  {
   "cell_type": "raw",
   "metadata": {},
   "source": [
    "This is outline to connect to a data base using python. "
   ]
  },
  {
   "cell_type": "raw",
   "metadata": {},
   "source": [
    "Now its time to create a data base table and do some transactions in the table.\n",
    "\n",
    "What i am gonna do now is to use sql language to write code in python."
   ]
  },
  {
   "cell_type": "raw",
   "metadata": {},
   "source": [
    "# Step1 Write query:\n",
    "\n",
    "        I am gonna write a create table querry in sql but stored in a python\n",
    "        multiline string\n",
    "        \n",
    "Step2 Execute query:\n",
    "            use cur.execute() method and pass the query string to it to execute\n",
    "                        cur.execute()\n",
    "Step3 Commit query:\n",
    "            To implment the queries in data base we need to commit the changes\n",
    "                     conn.commit()"
   ]
  },
  {
   "cell_type": "code",
   "execution_count": 18,
   "metadata": {},
   "outputs": [],
   "source": [
    "host_name = \"localhost\"\n",
    "data_base = \"postgres\"\n",
    "user_name = \"postgres\"\n",
    "pwd = \"Hussain@2022\"\n",
    "port_id = 5432\n",
    "\n",
    "conn = None\n",
    "cur  = None\n",
    "try:\n",
    "    ######### Connection Object###########\n",
    "    conn = psycopg2.connect(host=host_name\n",
    "        , dbname=data_base\n",
    "        , user=user_name\n",
    "        , password=pwd\n",
    "        , port=port_id)\n",
    "    \n",
    "    ####Cursor opened##########\n",
    "    cur  = conn.cursor()\n",
    "    create_script = '''\n",
    "                        CREATE TABLE IF NOT EXISTS employee(\n",
    "                        id        INT PRIMARY KEY\n",
    "                       , name      VARCHAR(40) NOT NULL\n",
    "                       , salary    INT\n",
    "                       , dept_id   VARCHAR(30) NOT NULL)\n",
    "                    '''\n",
    "    \n",
    "    cur.execute(create_script)\n",
    "    conn.commit()\n",
    "    \n",
    "    \n",
    "    \n",
    "except Exception as error:\n",
    "    print(\"Exception: \" + str(error))\n",
    "    \n",
    "finally:\n",
    "    \n",
    "    if cur is not None:\n",
    "        cur.close()   \n",
    "        #Cursor closed## \n",
    "        \n",
    "    if conn is not None:\n",
    "        ##connection closed##\n",
    "        conn.close()\n",
    "    "
   ]
  },
  {
   "cell_type": "raw",
   "metadata": {},
   "source": [
    "Let insert data in our table.\n",
    "We wil make an insert querry, execute it and commit it\n"
   ]
  },
  {
   "cell_type": "code",
   "execution_count": 19,
   "metadata": {},
   "outputs": [],
   "source": [
    "host_name = \"localhost\"\n",
    "data_base = \"postgres\"\n",
    "user_name = \"postgres\"\n",
    "pwd = \"Hussain@2022\"\n",
    "port_id = 5432\n",
    "\n",
    "conn = None\n",
    "cur  = None\n",
    "try:\n",
    "    ######### Connection Object###########\n",
    "    conn = psycopg2.connect(host=host_name\n",
    "        , dbname=data_base\n",
    "        , user=user_name\n",
    "        , password=pwd\n",
    "        , port=port_id)\n",
    "    \n",
    "    ####Cursor opened##########\n",
    "    cur  = conn.cursor()\n",
    "    create_script = '''\n",
    "                        CREATE TABLE IF NOT EXISTS employee(\n",
    "                        id        INT PRIMARY KEY\n",
    "                       , name      VARCHAR(40) NOT NULL\n",
    "                       , salary    INT\n",
    "                       , dept_id   VARCHAR(30) NOT NULL)\n",
    "                    \n",
    "                    '''\n",
    "    \n",
    "    cur.execute(create_script)\n",
    "    \n",
    "    insert_table_script = '''\n",
    "                        INSERT INTO employee(id,name,salary,dept_id)\n",
    "                        VALUES(130,'Kamil', 12000, 'Dept1') \n",
    "                        \n",
    "                        '''\n",
    "\n",
    "    \n",
    "    cur.execute(insert_table_script)\n",
    "    conn.commit()\n",
    "    \n",
    "    \n",
    "    \n",
    "except Exception as error:\n",
    "    print(\"Exception: \" + str(error))\n",
    "    \n",
    "finally:\n",
    "    \n",
    "    if cur is not None:\n",
    "        cur.close()   \n",
    "        #Cursor closed## \n",
    "        \n",
    "    if conn is not None:\n",
    "        ##connection closed##\n",
    "        conn.close()\n",
    "    "
   ]
  },
  {
   "cell_type": "raw",
   "metadata": {},
   "source": [
    "What if we need to add many values together in one go. \n",
    "We will make a list of tuple to pass in execute method with querry."
   ]
  },
  {
   "cell_type": "code",
   "execution_count": null,
   "metadata": {},
   "outputs": [],
   "source": []
  },
  {
   "cell_type": "code",
   "execution_count": 22,
   "metadata": {},
   "outputs": [
    {
     "name": "stdout",
     "output_type": "stream",
     "text": [
      "Kamil 18000\n",
      "Nasir 19500\n",
      "Asad 22500\n"
     ]
    }
   ],
   "source": [
    "host_name = \"localhost\"\n",
    "data_base = \"postgres\"\n",
    "user_name = \"postgres\"\n",
    "pwd = \"Hussain@2022\"\n",
    "port_id = 5432\n",
    "\n",
    "\n",
    "conn = None\n",
    "cur  = None\n",
    "try:\n",
    "    ######### Connection Object###########\n",
    "    conn = psycopg2.connect(host=host_name\n",
    "        , dbname=data_base\n",
    "        , user=user_name\n",
    "        , password=pwd\n",
    "        , port=port_id)\n",
    "    \n",
    "    ####Cursor opened##########\n",
    "    cur  = conn.cursor(cursor_factory=psycopg2.extras.DictCursor)\n",
    "                      # this is the parameter passed in cursor function\n",
    "                      # to fetch data using column name\n",
    "    drop_table_script = \"\"\"\n",
    "    DROP TABLE IF EXISTS employee\n",
    "    \"\"\"        \n",
    "    cur.execute(drop_table_script)\n",
    "   \n",
    "    create_script = '''\n",
    "                        CREATE TABLE IF NOT EXISTS employee(\n",
    "                        id        INT PRIMARY KEY\n",
    "                       , name      VARCHAR(40) NOT NULL\n",
    "                       , salary    INT\n",
    "                       , dept_id   VARCHAR(30) NOT NULL)\n",
    "                    '''\n",
    "    \n",
    "    cur.execute(create_script)\n",
    "    \n",
    "    insert_table_script = '''\n",
    "                        INSERT INTO employee(id,name,salary,dept_id)\n",
    "                        VALUES(%s,%s,%s,%s)                        \n",
    "                        '''\n",
    "\n",
    "    \n",
    "    # insert all values in one go\n",
    "    insert_values =[(130,'Kamil', 12000, 'Dept1')\n",
    "                ,   (120,'Nasir',13000,'Dept5')\n",
    "                ,   (140, \"Asad\",15000, 'Dept6')\n",
    "                ,   (150, 'Ali', 6000,'Dept6')]  \n",
    "    \n",
    "    for record in insert_values:\n",
    "        cur.execute(insert_table_script,record)\n",
    "        \n",
    "        \n",
    "        \n",
    "    \n",
    "    update_record_script = '''UPDATE employee SET salary = salary+(salary*0.5)'''\n",
    "    \n",
    "    cur.execute(update_record_script)\n",
    "    \n",
    "    delete_record_script = '''DELETE FROM employee WHERE name=%s'''\n",
    "    delete_record = ('Ali',)\n",
    "   \n",
    "    cur.execute(delete_record_script,delete_record)\n",
    "    \n",
    "    cur.execute(\"SELECT * FROM employee\")\n",
    "    \n",
    "    for record in cur.fetchall():\n",
    "        print(record['name'], record['salary'])\n",
    "        # here we have not used tuple index to read data from \n",
    "        # tuple but instead we have used column name\n",
    "        # it is due to the parameter passed in cursor function\n",
    "    \n",
    "    \n",
    "    \n",
    "    \n",
    "    conn.commit()\n",
    "    \n",
    "    \n",
    "except Exception as error:\n",
    "    print(\"Exception: \" + str(error))\n",
    "    \n",
    "finally:\n",
    "    \n",
    "    if cur is not None:\n",
    "        cur.close()   \n",
    "        #Cursor closed## \n",
    "        \n",
    "    if conn is not None:\n",
    "        ##connection closed##\n",
    "        conn.close()\n",
    "    "
   ]
  },
  {
   "cell_type": "code",
   "execution_count": 3,
   "metadata": {},
   "outputs": [],
   "source": []
  },
  {
   "cell_type": "code",
   "execution_count": null,
   "metadata": {},
   "outputs": [],
   "source": []
  }
 ],
 "metadata": {
  "kernelspec": {
   "display_name": "Python 3 (ipykernel)",
   "language": "python",
   "name": "python3"
  },
  "language_info": {
   "codemirror_mode": {
    "name": "ipython",
    "version": 3
   },
   "file_extension": ".py",
   "mimetype": "text/x-python",
   "name": "python",
   "nbconvert_exporter": "python",
   "pygments_lexer": "ipython3",
   "version": "3.9.12"
  }
 },
 "nbformat": 4,
 "nbformat_minor": 2
}
