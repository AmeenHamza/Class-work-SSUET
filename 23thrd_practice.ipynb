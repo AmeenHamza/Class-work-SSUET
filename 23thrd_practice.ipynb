{
 "cells": [
  {
   "cell_type": "code",
   "execution_count": 1,
   "id": "be99075f",
   "metadata": {},
   "outputs": [],
   "source": [
    "first_list = [\"Asad\",\"hamza\",\"mustafa\",\"abdullah\",\"faraz\",\"moiz\"]\n",
    "# This is positive index               \n",
    "                0       1        2          3         4      5 \n",
    "# This is negative index\n",
    "         -6        -5         -4           -3          -2       -1  "
   ]
  },
  {
   "cell_type": "code",
   "execution_count": 2,
   "id": "6ac32acc",
   "metadata": {},
   "outputs": [
    {
     "data": {
      "text/plain": [
       "['Asad', 'hamza', 'mustafa', 'abdullah', 'faraz', 'moiz']"
      ]
     },
     "execution_count": 2,
     "metadata": {},
     "output_type": "execute_result"
    }
   ],
   "source": [
    "first_list"
   ]
  },
  {
   "cell_type": "code",
   "execution_count": 3,
   "id": "01f630a8",
   "metadata": {},
   "outputs": [
    {
     "data": {
      "text/plain": [
       "list"
      ]
     },
     "execution_count": 3,
     "metadata": {},
     "output_type": "execute_result"
    }
   ],
   "source": [
    "type(first_list)"
   ]
  },
  {
   "cell_type": "code",
   "execution_count": 4,
   "id": "1acd024c",
   "metadata": {},
   "outputs": [
    {
     "data": {
      "text/plain": [
       "'abdullah'"
      ]
     },
     "execution_count": 4,
     "metadata": {},
     "output_type": "execute_result"
    }
   ],
   "source": [
    "first_list[3]"
   ]
  },
  {
   "cell_type": "code",
   "execution_count": 5,
   "id": "2579405a",
   "metadata": {},
   "outputs": [
    {
     "data": {
      "text/plain": [
       "'faraz'"
      ]
     },
     "execution_count": 5,
     "metadata": {},
     "output_type": "execute_result"
    }
   ],
   "source": [
    "first_list[-2]"
   ]
  },
  {
   "cell_type": "code",
   "execution_count": 6,
   "id": "2ffd8622",
   "metadata": {},
   "outputs": [],
   "source": [
    "dl = [\"Asad\",\"hamza\",\"mustafa\",[\"Hassan\",\"ifhaam\"]]"
   ]
  },
  {
   "cell_type": "code",
   "execution_count": 7,
   "id": "a3573d7f",
   "metadata": {},
   "outputs": [
    {
     "data": {
      "text/plain": [
       "['Hassan', 'ifhaam']"
      ]
     },
     "execution_count": 7,
     "metadata": {},
     "output_type": "execute_result"
    }
   ],
   "source": [
    "dl[3]"
   ]
  },
  {
   "cell_type": "code",
   "execution_count": 8,
   "id": "b55a7859",
   "metadata": {},
   "outputs": [],
   "source": [
    "new = [12,2.4,True,\"String\",[1,2,3]]"
   ]
  },
  {
   "cell_type": "code",
   "execution_count": 10,
   "id": "1baeaabd",
   "metadata": {},
   "outputs": [
    {
     "data": {
      "text/plain": [
       "3"
      ]
     },
     "execution_count": 10,
     "metadata": {},
     "output_type": "execute_result"
    }
   ],
   "source": [
    "new[-1][2]"
   ]
  },
  {
   "cell_type": "code",
   "execution_count": 11,
   "id": "0603865d",
   "metadata": {},
   "outputs": [],
   "source": [
    "# Adding  in list\n",
    "new[2]= False"
   ]
  },
  {
   "cell_type": "code",
   "execution_count": 12,
   "id": "80a7137d",
   "metadata": {},
   "outputs": [
    {
     "data": {
      "text/plain": [
       "[12, 2.4, False, 'String', [1, 2, 3]]"
      ]
     },
     "execution_count": 12,
     "metadata": {},
     "output_type": "execute_result"
    }
   ],
   "source": [
    "new"
   ]
  },
  {
   "cell_type": "markdown",
   "id": "3d42acd7",
   "metadata": {},
   "source": [
    "# Inserting method\n",
    "1-append()\n",
    "2-insert()"
   ]
  },
  {
   "cell_type": "code",
   "execution_count": 13,
   "id": "676d4ead",
   "metadata": {},
   "outputs": [],
   "source": [
    "new.append(400)"
   ]
  },
  {
   "cell_type": "code",
   "execution_count": 14,
   "id": "bb9740c5",
   "metadata": {},
   "outputs": [
    {
     "data": {
      "text/plain": [
       "[12, 2.4, False, 'String', [1, 2, 3], 400]"
      ]
     },
     "execution_count": 14,
     "metadata": {},
     "output_type": "execute_result"
    }
   ],
   "source": [
    "new"
   ]
  },
  {
   "cell_type": "code",
   "execution_count": 15,
   "id": "73750b75",
   "metadata": {},
   "outputs": [],
   "source": [
    "st = [\"Asad\",\"hamza\",\"mustafa\",\"abdullah\"]"
   ]
  },
  {
   "cell_type": "code",
   "execution_count": 16,
   "id": "78dacae1",
   "metadata": {},
   "outputs": [],
   "source": [
    "st.insert(2,\"Ahmed\")"
   ]
  },
  {
   "cell_type": "code",
   "execution_count": 17,
   "id": "1b0395d8",
   "metadata": {},
   "outputs": [
    {
     "data": {
      "text/plain": [
       "['Asad', 'hamza', 'Ahmed', 'mustafa', 'abdullah']"
      ]
     },
     "execution_count": 17,
     "metadata": {},
     "output_type": "execute_result"
    }
   ],
   "source": [
    "st"
   ]
  },
  {
   "cell_type": "code",
   "execution_count": 18,
   "id": "0d5ac09e",
   "metadata": {},
   "outputs": [],
   "source": [
    "# Whole list can be added easily\n",
    "st.insert(3,[2,3,4])"
   ]
  },
  {
   "cell_type": "code",
   "execution_count": 19,
   "id": "d23f7ab9",
   "metadata": {},
   "outputs": [
    {
     "data": {
      "text/plain": [
       "['Asad', 'hamza', 'Ahmed', [2, 3, 4], 'mustafa', 'abdullah']"
      ]
     },
     "execution_count": 19,
     "metadata": {},
     "output_type": "execute_result"
    }
   ],
   "source": [
    "st"
   ]
  },
  {
   "cell_type": "code",
   "execution_count": 20,
   "id": "ba94f80d",
   "metadata": {},
   "outputs": [],
   "source": [
    "# Delete or remove members from list\n",
    "del st[2]"
   ]
  },
  {
   "cell_type": "code",
   "execution_count": 21,
   "id": "d923f9cc",
   "metadata": {},
   "outputs": [
    {
     "data": {
      "text/plain": [
       "['Asad', 'hamza', [2, 3, 4], 'mustafa', 'abdullah']"
      ]
     },
     "execution_count": 21,
     "metadata": {},
     "output_type": "execute_result"
    }
   ],
   "source": [
    "st"
   ]
  },
  {
   "cell_type": "code",
   "execution_count": 22,
   "id": "705314ef",
   "metadata": {},
   "outputs": [],
   "source": [
    "st.remove(\"hamza\")"
   ]
  },
  {
   "cell_type": "code",
   "execution_count": 23,
   "id": "2f417799",
   "metadata": {},
   "outputs": [
    {
     "data": {
      "text/plain": [
       "['Asad', [2, 3, 4], 'mustafa', 'abdullah']"
      ]
     },
     "execution_count": 23,
     "metadata": {},
     "output_type": "execute_result"
    }
   ],
   "source": [
    "st"
   ]
  },
  {
   "cell_type": "code",
   "execution_count": 25,
   "id": "764a208f",
   "metadata": {},
   "outputs": [],
   "source": [
    "st.insert(1,\"Ali\")"
   ]
  },
  {
   "cell_type": "code",
   "execution_count": 26,
   "id": "8094cc55",
   "metadata": {},
   "outputs": [
    {
     "data": {
      "text/plain": [
       "['Asad', 'Ali', 'Ali', [2, 3, 4], 'mustafa', 'abdullah']"
      ]
     },
     "execution_count": 26,
     "metadata": {},
     "output_type": "execute_result"
    }
   ],
   "source": [
    "st"
   ]
  },
  {
   "cell_type": "code",
   "execution_count": 27,
   "id": "1c0c2add",
   "metadata": {},
   "outputs": [],
   "source": [
    "st.remove(\"Ali\")"
   ]
  },
  {
   "cell_type": "code",
   "execution_count": 28,
   "id": "b439e705",
   "metadata": {},
   "outputs": [
    {
     "data": {
      "text/plain": [
       "['Asad', 'Ali', [2, 3, 4], 'mustafa', 'abdullah']"
      ]
     },
     "execution_count": 28,
     "metadata": {},
     "output_type": "execute_result"
    }
   ],
   "source": [
    "st"
   ]
  },
  {
   "cell_type": "code",
   "execution_count": 29,
   "id": "aaebd2ad",
   "metadata": {},
   "outputs": [],
   "source": [
    "# apne pass se number ko add karna h fankari k lye\n",
    "st.insert(100,\"puthon\")"
   ]
  },
  {
   "cell_type": "code",
   "execution_count": 30,
   "id": "6bd4818c",
   "metadata": {},
   "outputs": [
    {
     "ename": "IndexError",
     "evalue": "list index out of range",
     "output_type": "error",
     "traceback": [
      "\u001b[1;31m---------------------------------------------------------------------------\u001b[0m",
      "\u001b[1;31mIndexError\u001b[0m                                Traceback (most recent call last)",
      "Input \u001b[1;32mIn [30]\u001b[0m, in \u001b[0;36m<cell line: 1>\u001b[1;34m()\u001b[0m\n\u001b[1;32m----> 1\u001b[0m \u001b[43mst\u001b[49m\u001b[43m[\u001b[49m\u001b[38;5;241;43m100\u001b[39;49m\u001b[43m]\u001b[49m\n",
      "\u001b[1;31mIndexError\u001b[0m: list index out of range"
     ]
    }
   ],
   "source": [
    "st[100]"
   ]
  },
  {
   "cell_type": "code",
   "execution_count": 31,
   "id": "0f0095e5",
   "metadata": {},
   "outputs": [
    {
     "data": {
      "text/plain": [
       "5"
      ]
     },
     "execution_count": 31,
     "metadata": {},
     "output_type": "execute_result"
    }
   ],
   "source": [
    "st.index(\"puthon\")"
   ]
  },
  {
   "cell_type": "code",
   "execution_count": 32,
   "id": "9fe2a962",
   "metadata": {},
   "outputs": [
    {
     "data": {
      "text/plain": [
       "['Asad', 'Ali', [2, 3, 4], 'mustafa', 'abdullah', 'puthon']"
      ]
     },
     "execution_count": 32,
     "metadata": {},
     "output_type": "execute_result"
    }
   ],
   "source": [
    "st"
   ]
  },
  {
   "cell_type": "code",
   "execution_count": 33,
   "id": "f57652a7",
   "metadata": {},
   "outputs": [],
   "source": [
    "st.remove(\"puthon\")"
   ]
  },
  {
   "cell_type": "code",
   "execution_count": 35,
   "id": "862abf3a",
   "metadata": {},
   "outputs": [
    {
     "data": {
      "text/plain": [
       "'abdullah'"
      ]
     },
     "execution_count": 35,
     "metadata": {},
     "output_type": "execute_result"
    }
   ],
   "source": [
    "st.pop()"
   ]
  },
  {
   "cell_type": "code",
   "execution_count": 36,
   "id": "650d5e7f",
   "metadata": {},
   "outputs": [
    {
     "data": {
      "text/plain": [
       "['Asad', 'Ali', [2, 3, 4], 'mustafa']"
      ]
     },
     "execution_count": 36,
     "metadata": {},
     "output_type": "execute_result"
    }
   ],
   "source": [
    "st"
   ]
  },
  {
   "cell_type": "code",
   "execution_count": 37,
   "id": "b93330de",
   "metadata": {},
   "outputs": [],
   "source": [
    "# for empty a list\n",
    "st.clear()"
   ]
  },
  {
   "cell_type": "code",
   "execution_count": 38,
   "id": "84ac2011",
   "metadata": {},
   "outputs": [
    {
     "data": {
      "text/plain": [
       "[]"
      ]
     },
     "execution_count": 38,
     "metadata": {},
     "output_type": "execute_result"
    }
   ],
   "source": [
    "st"
   ]
  },
  {
   "cell_type": "code",
   "execution_count": 39,
   "id": "19f2dc09",
   "metadata": {},
   "outputs": [],
   "source": [
    "# COPYING A LIST OR ASSIGN A LIST\n",
    "new1 = first_list"
   ]
  },
  {
   "cell_type": "code",
   "execution_count": 40,
   "id": "df24f5e7",
   "metadata": {},
   "outputs": [
    {
     "data": {
      "text/plain": [
       "['Asad', 'hamza', 'mustafa', 'abdullah', 'faraz', 'moiz']"
      ]
     },
     "execution_count": 40,
     "metadata": {},
     "output_type": "execute_result"
    }
   ],
   "source": [
    "new1"
   ]
  },
  {
   "cell_type": "code",
   "execution_count": 41,
   "id": "9cdf06b8",
   "metadata": {},
   "outputs": [],
   "source": [
    "first_list.remove(\"Asad\")"
   ]
  },
  {
   "cell_type": "code",
   "execution_count": 42,
   "id": "1c580a28",
   "metadata": {},
   "outputs": [
    {
     "data": {
      "text/plain": [
       "['hamza', 'mustafa', 'abdullah', 'faraz', 'moiz']"
      ]
     },
     "execution_count": 42,
     "metadata": {},
     "output_type": "execute_result"
    }
   ],
   "source": [
    "new1 # Donon ek hi kaam karaingi"
   ]
  },
  {
   "cell_type": "code",
   "execution_count": 43,
   "id": "a5f6bd24",
   "metadata": {},
   "outputs": [],
   "source": [
    "new1.append(\"Asad\")\n"
   ]
  },
  {
   "cell_type": "code",
   "execution_count": 44,
   "id": "d3037be7",
   "metadata": {},
   "outputs": [
    {
     "data": {
      "text/plain": [
       "['hamza', 'mustafa', 'abdullah', 'faraz', 'moiz', 'Asad']"
      ]
     },
     "execution_count": 44,
     "metadata": {},
     "output_type": "execute_result"
    }
   ],
   "source": [
    "first_list"
   ]
  },
  {
   "cell_type": "code",
   "execution_count": 45,
   "id": "9aaf4b9c",
   "metadata": {},
   "outputs": [],
   "source": [
    "myst = first_list.copy()"
   ]
  },
  {
   "cell_type": "code",
   "execution_count": 46,
   "id": "14772451",
   "metadata": {},
   "outputs": [
    {
     "data": {
      "text/plain": [
       "['hamza', 'mustafa', 'abdullah', 'faraz', 'moiz', 'Asad']"
      ]
     },
     "execution_count": 46,
     "metadata": {},
     "output_type": "execute_result"
    }
   ],
   "source": [
    "myst # COPYING A LIST"
   ]
  },
  {
   "cell_type": "code",
   "execution_count": null,
   "id": "3c8618a6",
   "metadata": {},
   "outputs": [],
   "source": []
  }
 ],
 "metadata": {
  "kernelspec": {
   "display_name": "Python 3 (ipykernel)",
   "language": "python",
   "name": "python3"
  },
  "language_info": {
   "codemirror_mode": {
    "name": "ipython",
    "version": 3
   },
   "file_extension": ".py",
   "mimetype": "text/x-python",
   "name": "python",
   "nbconvert_exporter": "python",
   "pygments_lexer": "ipython3",
   "version": "3.9.12"
  }
 },
 "nbformat": 4,
 "nbformat_minor": 5
}
