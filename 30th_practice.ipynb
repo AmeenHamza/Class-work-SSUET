{
 "cells": [
  {
   "cell_type": "code",
   "execution_count": 1,
   "id": "b3e56c0d",
   "metadata": {},
   "outputs": [
    {
     "name": "stdout",
     "output_type": "stream",
     "text": [
      "Ameen\n",
      "Zubair\n",
      "Rasikh\n",
      "Ifhaam\n",
      "Abdullah\n"
     ]
    }
   ],
   "source": [
    "# This is the iteration of list using for loop\n",
    "lst = [\"Ameen\",\"Zubair\",\"Rasikh\",\"Ifhaam\",\"Abdullah\"]\n",
    "for iterate in lst:\n",
    "    print(iterate)"
   ]
  },
  {
   "cell_type": "code",
   "execution_count": 2,
   "id": "82cb89bc",
   "metadata": {},
   "outputs": [
    {
     "name": "stdout",
     "output_type": "stream",
     "text": [
      "P\n",
      "a\n",
      "k\n",
      "i\n",
      "s\n",
      "t\n",
      "a\n",
      "n\n"
     ]
    }
   ],
   "source": [
    "# For cracking a string we use for loop\n",
    "for crk in \"Pakistan\":\n",
    "    print(crk)\n",
    "#any string will crack    "
   ]
  },
  {
   "cell_type": "code",
   "execution_count": 3,
   "id": "e74d27f5",
   "metadata": {},
   "outputs": [
    {
     "ename": "TypeError",
     "evalue": "'int' object is not iterable",
     "output_type": "error",
     "traceback": [
      "\u001b[1;31m---------------------------------------------------------------------------\u001b[0m",
      "\u001b[1;31mTypeError\u001b[0m                                 Traceback (most recent call last)",
      "Input \u001b[1;32mIn [3]\u001b[0m, in \u001b[0;36m<cell line: 3>\u001b[1;34m()\u001b[0m\n\u001b[0;32m      1\u001b[0m \u001b[38;5;66;03m# the cracking method only apply on string or iterable property\u001b[39;00m\n\u001b[0;32m      2\u001b[0m \u001b[38;5;66;03m# because string is a iterable property\u001b[39;00m\n\u001b[1;32m----> 3\u001b[0m \u001b[38;5;28;01mfor\u001b[39;00m num \u001b[38;5;129;01min\u001b[39;00m \u001b[38;5;241m5000\u001b[39m:\n\u001b[0;32m      4\u001b[0m     \u001b[38;5;28mprint\u001b[39m(num)\n",
      "\u001b[1;31mTypeError\u001b[0m: 'int' object is not iterable"
     ]
    }
   ],
   "source": [
    "# the cracking method only apply on string or iterable property\n",
    "# because string is a iterable property\n",
    "for num in 5000:\n",
    "    print(num)"
   ]
  },
  {
   "cell_type": "code",
   "execution_count": 4,
   "id": "f5885d0a",
   "metadata": {},
   "outputs": [
    {
     "name": "stdout",
     "output_type": "stream",
     "text": [
      "1\n",
      "2\n",
      "3\n",
      "4\n",
      "5\n",
      "6\n",
      "7\n",
      "8\n",
      "9\n",
      "10\n"
     ]
    }
   ],
   "source": [
    "# IN for loop the range is a method which is used to use starts with this & and with this\n",
    "# Let us suppose we want to print 1 to 10 numbers\n",
    "for num in range(1,11): # ye (n-1) tk chalta h\n",
    "    print(num)"
   ]
  },
  {
   "cell_type": "code",
   "execution_count": 5,
   "id": "d660390f",
   "metadata": {},
   "outputs": [
    {
     "name": "stdout",
     "output_type": "stream",
     "text": [
      "1\n",
      "3\n",
      "5\n",
      "7\n",
      "9\n",
      "11\n",
      "13\n",
      "15\n",
      "17\n",
      "19\n"
     ]
    }
   ],
   "source": [
    "# The another function of range is stepping \n",
    "# Stepping is use to take a step (jitne aap step chorke chalwana chaho)\n",
    "for odd in range(1,21,2):\n",
    "    print(odd)\n",
    "    \n",
    "# As you can see it prints all the odd numbers between 1 to 20    "
   ]
  },
  {
   "cell_type": "code",
   "execution_count": 6,
   "id": "40b279d4",
   "metadata": {},
   "outputs": [
    {
     "name": "stdout",
     "output_type": "stream",
     "text": [
      "0\n",
      "2\n",
      "4\n",
      "6\n",
      "8\n",
      "10\n",
      "12\n",
      "14\n",
      "16\n",
      "18\n",
      "20\n"
     ]
    }
   ],
   "source": [
    "for even in range(2,21,2):\n",
    "    print(even)\n",
    "# It prints all the even numbers     "
   ]
  },
  {
   "cell_type": "code",
   "execution_count": 8,
   "id": "35ab96ee",
   "metadata": {},
   "outputs": [
    {
     "name": "stdout",
     "output_type": "stream",
     "text": [
      "30\n",
      "28\n",
      "26\n",
      "24\n",
      "22\n",
      "20\n",
      "18\n",
      "16\n",
      "14\n",
      "12\n",
      "10\n",
      "8\n",
      "6\n",
      "4\n",
      "2\n"
     ]
    }
   ],
   "source": [
    "# The positive stepping starting from left to right and (-)negative starts from right to left\n",
    "for nw in range(30,1,-2):\n",
    "    print(nw)\n",
    "    \n",
    "# it prints all the even numbers in reverse direction    "
   ]
  },
  {
   "cell_type": "code",
   "execution_count": 9,
   "id": "3be55ca6",
   "metadata": {},
   "outputs": [
    {
     "name": "stdout",
     "output_type": "stream",
     "text": [
      "0\n",
      "1\n",
      "2\n",
      "3\n",
      "4\n",
      "5\n",
      "6\n",
      "7\n"
     ]
    }
   ],
   "source": [
    "# break\n",
    "for a in range(11):\n",
    "    if a==8:\n",
    "        break\n",
    "    print(a)   "
   ]
  },
  {
   "cell_type": "code",
   "execution_count": 10,
   "id": "8dd0e7c2",
   "metadata": {},
   "outputs": [
    {
     "name": "stdout",
     "output_type": "stream",
     "text": [
      "0\n",
      "1\n",
      "2\n",
      "3\n",
      "5\n"
     ]
    }
   ],
   "source": [
    "for s in range(6):\n",
    "    if s==4:\n",
    "        continue\n",
    "    print(s) "
   ]
  },
  {
   "cell_type": "code",
   "execution_count": 14,
   "id": "b9f2fb86",
   "metadata": {},
   "outputs": [
    {
     "name": "stdout",
     "output_type": "stream",
     "text": [
      "[1, 3, 5, 7, 9, 11, 13, 15, 17, 19]\n"
     ]
    }
   ],
   "source": [
    "odd=[]\n",
    "for a in range(1,21):\n",
    "    if a%2!=0:\n",
    "        odd.append(a)\n",
    "print(odd)    "
   ]
  },
  {
   "cell_type": "code",
   "execution_count": 15,
   "id": "b4554dbb",
   "metadata": {},
   "outputs": [
    {
     "name": "stdout",
     "output_type": "stream",
     "text": [
      "[0, 2, 4, 6, 8, 10, 12, 14, 16, 18, 20]\n"
     ]
    }
   ],
   "source": [
    "even = []\n",
    "for i in range(21):\n",
    "    if i%2==0:\n",
    "        even.append(i)\n",
    "print(even)"
   ]
  },
  {
   "cell_type": "markdown",
   "id": "b4776446",
   "metadata": {},
   "source": [
    "# List comprehension"
   ]
  },
  {
   "cell_type": "code",
   "execution_count": 16,
   "id": "c75b465d",
   "metadata": {},
   "outputs": [
    {
     "data": {
      "text/plain": [
       "[1, 3, 5, 7, 9, 11, 13, 15, 17, 19]"
      ]
     },
     "execution_count": 16,
     "metadata": {},
     "output_type": "execute_result"
    }
   ],
   "source": [
    "[a for a in range(1,21) if a%2!=0] # Odd"
   ]
  },
  {
   "cell_type": "code",
   "execution_count": 17,
   "id": "fc82da52",
   "metadata": {},
   "outputs": [
    {
     "data": {
      "text/plain": [
       "[2, 4, 6, 8, 10, 12, 14, 16, 18, 20]"
      ]
     },
     "execution_count": 17,
     "metadata": {},
     "output_type": "execute_result"
    }
   ],
   "source": [
    "[a for a in range(1,21) if a%2==0] # Even"
   ]
  },
  {
   "cell_type": "code",
   "execution_count": 18,
   "id": "bd88dd12",
   "metadata": {},
   "outputs": [
    {
     "ename": "IndentationError",
     "evalue": "expected an indented block (1601906946.py, line 3)",
     "output_type": "error",
     "traceback": [
      "\u001b[1;36m  Input \u001b[1;32mIn [18]\u001b[1;36m\u001b[0m\n\u001b[1;33m    if num%2==0:\u001b[0m\n\u001b[1;37m                ^\u001b[0m\n\u001b[1;31mIndentationError\u001b[0m\u001b[1;31m:\u001b[0m expected an indented block\n"
     ]
    }
   ],
   "source": [
    "even = []\n",
    "odd = []\n",
    "for a in range(6):\n",
    "    num = int(input(\"Enter a number :\"))\n",
    "    if num%2==0:\n",
    "        even.append(a) \n",
    "    else:\n",
    "        odd.append(a)\n",
    "print(f\"The even list is {even} and the odd list is {odd}\")        "
   ]
  },
  {
   "cell_type": "code",
   "execution_count": null,
   "id": "a8823612",
   "metadata": {},
   "outputs": [],
   "source": []
  }
 ],
 "metadata": {
  "kernelspec": {
   "display_name": "Python 3 (ipykernel)",
   "language": "python",
   "name": "python3"
  },
  "language_info": {
   "codemirror_mode": {
    "name": "ipython",
    "version": 3
   },
   "file_extension": ".py",
   "mimetype": "text/x-python",
   "name": "python",
   "nbconvert_exporter": "python",
   "pygments_lexer": "ipython3",
   "version": "3.9.12"
  }
 },
 "nbformat": 4,
 "nbformat_minor": 5
}
