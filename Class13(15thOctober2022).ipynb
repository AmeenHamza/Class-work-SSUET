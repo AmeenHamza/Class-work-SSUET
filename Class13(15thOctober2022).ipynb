{
 "cells": [
  {
   "cell_type": "markdown",
   "id": "526cda5d",
   "metadata": {},
   "source": [
    "# File Handling"
   ]
  },
  {
   "cell_type": "code",
   "execution_count": 59,
   "id": "a8a2475d",
   "metadata": {},
   "outputs": [],
   "source": [
    "f = open(\"Interview.txt\",\"r\")\n",
    "# f handle (objec)"
   ]
  },
  {
   "cell_type": "code",
   "execution_count": 23,
   "id": "fec4304f",
   "metadata": {},
   "outputs": [
    {
     "name": "stdout",
     "output_type": "stream",
     "text": [
      "\n"
     ]
    }
   ],
   "source": [
    "print(f.read())"
   ]
  },
  {
   "cell_type": "code",
   "execution_count": 24,
   "id": "c0bdfd3d",
   "metadata": {},
   "outputs": [
    {
     "data": {
      "text/plain": [
       "30"
      ]
     },
     "execution_count": 24,
     "metadata": {},
     "output_type": "execute_result"
    }
   ],
   "source": [
    "f.seek(30)"
   ]
  },
  {
   "cell_type": "code",
   "execution_count": 25,
   "id": "83337250",
   "metadata": {},
   "outputs": [
    {
     "data": {
      "text/plain": [
       "'me is Usman.\\n\\nQ: How are you?\\nA: I amd good. \\n\\nQ:Whats you ASL?\\nA: I am 30, Male and from Pakistan. \\n'"
      ]
     },
     "execution_count": 25,
     "metadata": {},
     "output_type": "execute_result"
    }
   ],
   "source": [
    "f.read()"
   ]
  },
  {
   "cell_type": "code",
   "execution_count": 32,
   "id": "22cfb8a6",
   "metadata": {},
   "outputs": [
    {
     "name": "stdout",
     "output_type": "stream",
     "text": [
      "Q: What is your name?A: My name is Usman.Q: How are you?A: I amd good. \n",
      "\n"
     ]
    }
   ],
   "source": [
    "print(f.readline())"
   ]
  },
  {
   "cell_type": "code",
   "execution_count": 34,
   "id": "301d5ef7",
   "metadata": {},
   "outputs": [
    {
     "data": {
      "text/plain": [
       "['Q: What is your name?\\n',\n",
       " 'A: My name is Usman.\\n',\n",
       " '\\n',\n",
       " 'Q: How are you?\\n',\n",
       " 'A: I amd good. \\n',\n",
       " '\\n',\n",
       " 'Q:Whats you ASL?\\n',\n",
       " 'A: I am 30, Male and from Pakistan.\\n']"
      ]
     },
     "execution_count": 34,
     "metadata": {},
     "output_type": "execute_result"
    }
   ],
   "source": [
    "f.readlines()"
   ]
  },
  {
   "cell_type": "code",
   "execution_count": 56,
   "id": "881bc00b",
   "metadata": {},
   "outputs": [
    {
     "name": "stdout",
     "output_type": "stream",
     "text": [
      "['Q: What is your name?\\n', 'A: My name is Usman.\\n', 'Q: How are you? \\n', 'A: I amd good. \\n', 'Q:Whats you ASL? \\n', 'A: I am 30, Male and from Pakistan.\\n']\n"
     ]
    }
   ],
   "source": [
    "print(f.readlines())"
   ]
  },
  {
   "cell_type": "markdown",
   "id": "f4e84a27",
   "metadata": {},
   "source": [
    "# for a in f.readlines():\n",
    "    print(a)"
   ]
  },
  {
   "cell_type": "code",
   "execution_count": 61,
   "id": "6c14ed1a",
   "metadata": {},
   "outputs": [
    {
     "name": "stdout",
     "output_type": "stream",
     "text": [
      "a b \n",
      " c\n"
     ]
    }
   ],
   "source": [
    "print(\"a\",\"b\",\"\\n\",\"c\")\n",
    "f.close()"
   ]
  },
  {
   "cell_type": "code",
   "execution_count": 66,
   "id": "fbe1ad97",
   "metadata": {},
   "outputs": [
    {
     "name": "stdout",
     "output_type": "stream",
     "text": [
      "Q: What is your name?\n",
      "\n",
      "A: My name is Usman.\n",
      "\n",
      "Q: How are you? \n",
      "\n",
      "A: I amd good. \n",
      "\n",
      "Q:Whats you ASL? \n",
      "\n",
      "A: I am 30, Male and from Pakistan.\n",
      "\n"
     ]
    }
   ],
   "source": [
    "file = open(\"Interview.txt\", 'r')\n",
    "lines = file.readlines()\n",
    "\n",
    "for line in lines:\n",
    "    print(line)\n",
    "    \n",
    "file.close()"
   ]
  },
  {
   "cell_type": "markdown",
   "id": "2adbb12c",
   "metadata": {},
   "source": [
    "# Context Manager"
   ]
  },
  {
   "cell_type": "code",
   "execution_count": 65,
   "id": "cb8a44b9",
   "metadata": {},
   "outputs": [
    {
     "name": "stdout",
     "output_type": "stream",
     "text": [
      "Q: What is your name?\n",
      "A: My name is Usman.\n",
      "Q: How are you? \n",
      "A: I amd good. \n",
      "Q:Whats you ASL? \n",
      "A: I am 30, Male and from Pakistan.\n",
      "\n"
     ]
    }
   ],
   "source": [
    "with open('Interview.txt','r') as file:\n",
    "    data = file.read()\n",
    "    print(data)"
   ]
  },
  {
   "cell_type": "code",
   "execution_count": 67,
   "id": "767c19e2",
   "metadata": {},
   "outputs": [],
   "source": [
    "with open('Interview.txt','w') as f:\n",
    "    f.write(\"Q: Is is your last class?\")\n",
    "    f.write(\"A: May b it is.\")\n",
    "# Writing in an existing file will overwrite the previous text. "
   ]
  },
  {
   "cell_type": "code",
   "execution_count": 69,
   "id": "8519bfcf",
   "metadata": {},
   "outputs": [],
   "source": [
    "lst = [\"Nice to meet you\", \"Apka test due hogaya hy\", \"Its hot wether outside\"]"
   ]
  },
  {
   "cell_type": "code",
   "execution_count": 70,
   "id": "5b9f9e56",
   "metadata": {},
   "outputs": [],
   "source": [
    "with open(\"lastclass.txt\",'w') as f:\n",
    "    f.write(\"new Good bye and good luck!\")\n",
    "    f.writelines(lst)"
   ]
  },
  {
   "cell_type": "code",
   "execution_count": 72,
   "id": "2fac463c",
   "metadata": {},
   "outputs": [
    {
     "name": "stdout",
     "output_type": "stream",
     "text": [
      "['new Good bye and good luck!Nice to meet youApka test due hogaya hyIts hot wether outside']\n"
     ]
    }
   ],
   "source": [
    "with open(\"lastclass.txt\",'r') as f:\n",
    "    print(f.readlines())"
   ]
  },
  {
   "cell_type": "code",
   "execution_count": 79,
   "id": "d47eb6a3",
   "metadata": {},
   "outputs": [],
   "source": [
    "with open(\"newfile.txt\",'w') as file:\n",
    "    for line in lst:\n",
    "        file.write(line+'\\n')"
   ]
  },
  {
   "cell_type": "code",
   "execution_count": 87,
   "id": "01ea8d2a",
   "metadata": {},
   "outputs": [],
   "source": [
    "with open(r\"C:\\Users\\Nasir Hussain\\Desktop\\data.txt\",'r') as file:\n",
    "    lst_content = file.read().split(\",\")"
   ]
  },
  {
   "cell_type": "code",
   "execution_count": 92,
   "id": "7777d639",
   "metadata": {},
   "outputs": [],
   "source": [
    "with open(\"data.txt\",'w') as f:\n",
    "    for line in lst_content:\n",
    "        f.write(line.strip()+\"\\n\")"
   ]
  },
  {
   "cell_type": "code",
   "execution_count": 93,
   "id": "c217fdb1",
   "metadata": {},
   "outputs": [
    {
     "name": "stdout",
     "output_type": "stream",
     "text": [
      "In literary theory\n",
      "a text is any object that can be \"read\"\n",
      "whether this object is a work of literature\n",
      "a street sign\n",
      "an arrangement of buildings on a city block\n",
      "or styles of clothing. It is a coherent set of signs that transmits some kind of informative message.[1] This set of signs is considered in terms of the informative message's content\n",
      "rather than in terms of its physical form or the medium in which it is represented.Within the field of literary criticism\n",
      "\"text\" also refers to the original information content of a particular piece of writing; that is\n",
      "the \"text\" of a work is that primal symbolic arrangement of letters as originally composed\n",
      "apart from later alterations\n",
      "deterioration\n",
      "commentary\n",
      "translations\n",
      "paratext\n",
      "etc. Therefore\n",
      "when literary criticism is concerned with the determination of a \"text\"\n",
      "it is concerned with the distinguishing of the original information content from whatever has been added to or subtracted from that content as it appears in a given textual document (that is\n",
      "a physical representation of text).Since the history of writing predates the concept of the \"text\"\n",
      "most texts were not written with this concept in mind. Most written works fall within a narrow range of the types described by text theory. The concept of \"text\" becomes relevant if and when a \"coherent written message is completed and needs to be referred to independently of the circumstances in which it was created.\"[citation needed]\n",
      "\n"
     ]
    }
   ],
   "source": [
    "with open('data.txt',\"r\") as f:\n",
    "    print(f.read())"
   ]
  },
  {
   "cell_type": "code",
   "execution_count": 2,
   "id": "34f76796",
   "metadata": {},
   "outputs": [],
   "source": [
    "import csv"
   ]
  },
  {
   "cell_type": "code",
   "execution_count": 2,
   "id": "ce076d9b",
   "metadata": {},
   "outputs": [
    {
     "ename": "NameError",
     "evalue": "name 'csv' is not defined",
     "output_type": "error",
     "traceback": [
      "\u001b[1;31m---------------------------------------------------------------------------\u001b[0m",
      "\u001b[1;31mNameError\u001b[0m                                 Traceback (most recent call last)",
      "Input \u001b[1;32mIn [2]\u001b[0m, in \u001b[0;36m<cell line: 1>\u001b[1;34m()\u001b[0m\n\u001b[0;32m      1\u001b[0m \u001b[38;5;28;01mwith\u001b[39;00m \u001b[38;5;28mopen\u001b[39m(\u001b[38;5;124m\"\u001b[39m\u001b[38;5;124mcompetitions.csv\u001b[39m\u001b[38;5;124m\"\u001b[39m,\u001b[38;5;124m'\u001b[39m\u001b[38;5;124mr\u001b[39m\u001b[38;5;124m'\u001b[39m)\u001b[38;5;28;01mas\u001b[39;00m f:\n\u001b[1;32m----> 2\u001b[0m     content \u001b[38;5;241m=\u001b[39m \u001b[43mcsv\u001b[49m\u001b[38;5;241m.\u001b[39mreader(f)\n\u001b[0;32m      3\u001b[0m     \u001b[38;5;28;01mfor\u001b[39;00m cont \u001b[38;5;129;01min\u001b[39;00m content:\n\u001b[0;32m      4\u001b[0m         \u001b[38;5;28mprint\u001b[39m(cont)\n",
      "\u001b[1;31mNameError\u001b[0m: name 'csv' is not defined"
     ]
    }
   ],
   "source": [
    "with open(\"competitions.csv\",'r')as f:\n",
    "    content = csv.reader(f)\n",
    "    for cont in content:\n",
    "        print(cont)"
   ]
  },
  {
   "cell_type": "code",
   "execution_count": 1,
   "id": "74809fed",
   "metadata": {},
   "outputs": [
    {
     "ename": "NameError",
     "evalue": "name 'csv' is not defined",
     "output_type": "error",
     "traceback": [
      "\u001b[1;31m---------------------------------------------------------------------------\u001b[0m",
      "\u001b[1;31mNameError\u001b[0m                                 Traceback (most recent call last)",
      "Input \u001b[1;32mIn [1]\u001b[0m, in \u001b[0;36m<cell line: 1>\u001b[1;34m()\u001b[0m\n\u001b[0;32m      1\u001b[0m \u001b[38;5;28;01mwith\u001b[39;00m \u001b[38;5;28mopen\u001b[39m(\u001b[38;5;124m\"\u001b[39m\u001b[38;5;124mcompetitions.csv\u001b[39m\u001b[38;5;124m\"\u001b[39m,\u001b[38;5;124m'\u001b[39m\u001b[38;5;124ma\u001b[39m\u001b[38;5;124m'\u001b[39m)\u001b[38;5;28;01mas\u001b[39;00m f:\n\u001b[1;32m----> 2\u001b[0m     data_handler \u001b[38;5;241m=\u001b[39m \u001b[43mcsv\u001b[49m\u001b[38;5;241m.\u001b[39mwriter(f,delimiter\u001b[38;5;241m=\u001b[39m\u001b[38;5;124m'\u001b[39m\u001b[38;5;124m,\u001b[39m\u001b[38;5;124m'\u001b[39m)\n\u001b[0;32m      3\u001b[0m     data_handler\u001b[38;5;241m.\u001b[39mwriterow([\u001b[38;5;124m\"\u001b[39m\u001b[38;5;124m1999\u001b[39m\u001b[38;5;124m\"\u001b[39m, \u001b[38;5;124m\"\u001b[39m\u001b[38;5;124mGobstones\u001b[39m\u001b[38;5;124m\"\u001b[39m,\u001b[38;5;124m\"\u001b[39m\u001b[38;5;124mWelch National\u001b[39m\u001b[38;5;124m\"\u001b[39m])\n\u001b[0;32m      4\u001b[0m     data_handler\u001b[38;5;241m.\u001b[39mwriterow([\u001b[38;5;124m\"\u001b[39m\u001b[38;5;124m2002\u001b[39m\u001b[38;5;124m\"\u001b[39m, \u001b[38;5;124m\"\u001b[39m\u001b[38;5;124m\"\u001b[39m])\n",
      "\u001b[1;31mNameError\u001b[0m: name 'csv' is not defined"
     ]
    }
   ],
   "source": [
    "with open(\"competitions.csv\",'a')as f:\n",
    "    data_handler = csv.writer(f,delimiter=',')\n",
    "    data_handler.writerow([\"1999\", \"Gobstones\",\"Welch National\"])\n",
    "    data_handler.writerow([\"2002\", \"\"])\n",
    "    data_handler.writerows(['Year  ', 'Event', ' Winner'],\n",
    "                           ['1995', 'Best-Kept Lawn', 'None'],\n",
    "                            ['1999', 'Football', 'Shahzad'],\n",
    "                            ['2005', 'Worldcup', 'Usman'])"
   ]
  },
  {
   "cell_type": "code",
   "execution_count": 10,
   "id": "db8281f6",
   "metadata": {},
   "outputs": [
    {
     "ename": "TypeError",
     "evalue": "write() argument must be str, not list",
     "output_type": "error",
     "traceback": [
      "\u001b[1;31m---------------------------------------\u001b[0m",
      "\u001b[1;31mTypeError\u001b[0mTraceback (most recent call last)",
      "\u001b[1;32m<ipython-input-10-3a5049e3d4e7>\u001b[0m in \u001b[0;36m<module>\u001b[1;34m\u001b[0m\n\u001b[0;32m      3\u001b[0m \u001b[1;32mwith\u001b[0m \u001b[0mopen\u001b[0m\u001b[1;33m(\u001b[0m\u001b[1;34m\"alphabet_list.txt\"\u001b[0m\u001b[1;33m,\u001b[0m \u001b[1;34m\"w\"\u001b[0m\u001b[1;33m)\u001b[0m \u001b[1;32mas\u001b[0m \u001b[0mf\u001b[0m\u001b[1;33m:\u001b[0m\u001b[1;33m\u001b[0m\u001b[1;33m\u001b[0m\u001b[0m\n\u001b[0;32m      4\u001b[0m \u001b[1;33m\u001b[0m\u001b[0m\n\u001b[1;32m----> 5\u001b[1;33m     \u001b[0mf\u001b[0m\u001b[1;33m.\u001b[0m\u001b[0mwrite\u001b[0m\u001b[1;33m(\u001b[0m\u001b[0malphabet_letters\u001b[0m\u001b[1;33m)\u001b[0m\u001b[1;33m\u001b[0m\u001b[1;33m\u001b[0m\u001b[0m\n\u001b[0m",
      "\u001b[1;31mTypeError\u001b[0m: write() argument must be str, not list"
     ]
    }
   ],
   "source": [
    "alphabet_letters = [\"a\", \"b\", \"c\"]\n",
    "\n",
    "with open(\"alphabet_list.txt\", \"w\") as f:\n",
    "    \n",
    "    f.write(alphabet_letters)"
   ]
  },
  {
   "cell_type": "code",
   "execution_count": 11,
   "id": "34608e2a",
   "metadata": {},
   "outputs": [],
   "source": [
    "import json"
   ]
  },
  {
   "cell_type": "code",
   "execution_count": 12,
   "id": "e51649b8",
   "metadata": {},
   "outputs": [],
   "source": [
    "alphabet_letters = [\"a\", \"b\", \"c\"]"
   ]
  },
  {
   "cell_type": "code",
   "execution_count": 13,
   "id": "4a6fc0e7",
   "metadata": {},
   "outputs": [],
   "source": [
    "with open(\"alphabet_list.json\", \"w\") as f:\n",
    "    json.dump(alphabet_letters, f)"
   ]
  },
  {
   "cell_type": "code",
   "execution_count": 14,
   "id": "06f33d5f",
   "metadata": {},
   "outputs": [],
   "source": [
    "customer_29876 = {\n",
    "                    \"first name\": \"David\",\n",
    "                    \"last name\": \"Elliott\",\n",
    "                    \"address\": \"4803 Wellesley St.\"\n",
    "}"
   ]
  },
  {
   "cell_type": "code",
   "execution_count": 15,
   "id": "617d763d",
   "metadata": {},
   "outputs": [],
   "source": [
    "with open(\"customer_29876.json\", \"w\") as f:\n",
    "    json.dump(customer_29876, f)"
   ]
  },
  {
   "cell_type": "code",
   "execution_count": 23,
   "id": "8d13f6ab",
   "metadata": {},
   "outputs": [
    {
     "name": "stdout",
     "output_type": "stream",
     "text": [
      "The file you are trying to access in not avaialble\n"
     ]
    }
   ],
   "source": [
    "\n",
    "try:\n",
    "    with open(\"customer_29878.json\") as f:\n",
    "        customer_29877 = json.load(f)\n",
    "except FileNotFoundError:\n",
    "    print(\"The file you are trying to access in not avaialble\")"
   ]
  },
  {
   "cell_type": "code",
   "execution_count": 22,
   "id": "d6ad0af3",
   "metadata": {},
   "outputs": [
    {
     "data": {
      "text/plain": [
       "'David'"
      ]
     },
     "execution_count": 22,
     "metadata": {},
     "output_type": "execute_result"
    }
   ],
   "source": [
    "customer_29877['first name']"
   ]
  },
  {
   "cell_type": "code",
   "execution_count": null,
   "id": "a0512bad",
   "metadata": {},
   "outputs": [],
   "source": []
  }
 ],
 "metadata": {
  "kernelspec": {
   "display_name": "Python 3 (ipykernel)",
   "language": "python",
   "name": "python3"
  },
  "language_info": {
   "codemirror_mode": {
    "name": "ipython",
    "version": 3
   },
   "file_extension": ".py",
   "mimetype": "text/x-python",
   "name": "python",
   "nbconvert_exporter": "python",
   "pygments_lexer": "ipython3",
   "version": "3.9.12"
  }
 },
 "nbformat": 4,
 "nbformat_minor": 5
}
