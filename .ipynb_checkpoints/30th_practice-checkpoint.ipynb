{
 "cells": [
  {
   "cell_type": "code",
   "execution_count": 1,
   "id": "b3e56c0d",
   "metadata": {},
   "outputs": [
    {
     "name": "stdout",
     "output_type": "stream",
     "text": [
      "Ameen\n",
      "Zubair\n",
      "Rasikh\n",
      "Ifhaam\n",
      "Abdullah\n"
     ]
    }
   ],
   "source": [
    "# This is the iteration of list using for loop\n",
    "lst = [\"Ameen\",\"Zubair\",\"Rasikh\",\"Ifhaam\",\"Abdullah\"]\n",
    "for iterate in lst:\n",
    "    print(iterate)"
   ]
  },
  {
   "cell_type": "code",
   "execution_count": 2,
   "id": "95a8fb7e",
   "metadata": {},
   "outputs": [
    {
     "name": "stdout",
     "output_type": "stream",
     "text": [
      "P\n",
      "a\n",
      "k\n",
      "i\n",
      "s\n",
      "t\n",
      "a\n",
      "n\n"
     ]
    }
   ],
   "source": [
    "# For cracking a string we use for loop\n",
    "for crk in \"Pakistan\":\n",
    "    print(crk)\n",
    "#any string will crack    "
   ]
  },
  {
   "cell_type": "code",
   "execution_count": 3,
   "id": "71cf9879",
   "metadata": {},
   "outputs": [
    {
     "ename": "TypeError",
     "evalue": "'int' object is not iterable",
     "output_type": "error",
     "traceback": [
      "\u001b[1;31m---------------------------------------------------------------------------\u001b[0m",
      "\u001b[1;31mTypeError\u001b[0m                                 Traceback (most recent call last)",
      "Input \u001b[1;32mIn [3]\u001b[0m, in \u001b[0;36m<cell line: 3>\u001b[1;34m()\u001b[0m\n\u001b[0;32m      1\u001b[0m \u001b[38;5;66;03m# the cracking method only apply on string or iterable property\u001b[39;00m\n\u001b[0;32m      2\u001b[0m \u001b[38;5;66;03m# because string is a iterable property\u001b[39;00m\n\u001b[1;32m----> 3\u001b[0m \u001b[38;5;28;01mfor\u001b[39;00m num \u001b[38;5;129;01min\u001b[39;00m \u001b[38;5;241m5000\u001b[39m:\n\u001b[0;32m      4\u001b[0m     \u001b[38;5;28mprint\u001b[39m(num)\n",
      "\u001b[1;31mTypeError\u001b[0m: 'int' object is not iterable"
     ]
    }
   ],
   "source": [
    "# the cracking method only apply on string or iterable property\n",
    "# because string is a iterable property\n",
    "for num in 5000:\n",
    "    print(num)"
   ]
  },
  {
   "cell_type": "code",
   "execution_count": 4,
   "id": "4b1e559a",
   "metadata": {},
   "outputs": [
    {
     "name": "stdout",
     "output_type": "stream",
     "text": [
      "1\n",
      "2\n",
      "3\n",
      "4\n",
      "5\n",
      "6\n",
      "7\n",
      "8\n",
      "9\n",
      "10\n"
     ]
    }
   ],
   "source": [
    "# IN for loop the range is a method which is used to use starts with this & and with this\n",
    "# Let us suppose we want to print 1 to 10 numbers\n",
    "for num in range(1,11): # ye (n-1) tk chalta h\n",
    "    print(num)"
   ]
  },
  {
   "cell_type": "code",
   "execution_count": 5,
   "id": "a16bb3cd",
   "metadata": {},
   "outputs": [
    {
     "name": "stdout",
     "output_type": "stream",
     "text": [
      "1\n",
      "3\n",
      "5\n",
      "7\n",
      "9\n",
      "11\n",
      "13\n",
      "15\n",
      "17\n",
      "19\n"
     ]
    }
   ],
   "source": [
    "# The another function of range is stepping \n",
    "# Stepping is use to take a step (jitne aap step chorke chalwana chaho)\n",
    "for odd in range(1,21,2):\n",
    "    print(odd)\n",
    "    \n",
    "# As you can see it prints all the odd numbers between 1 to 20    "
   ]
  },
  {
   "cell_type": "code",
   "execution_count": 6,
   "id": "4a53aced",
   "metadata": {},
   "outputs": [
    {
     "name": "stdout",
     "output_type": "stream",
     "text": [
      "0\n",
      "2\n",
      "4\n",
      "6\n",
      "8\n",
      "10\n",
      "12\n",
      "14\n",
      "16\n",
      "18\n",
      "20\n"
     ]
    }
   ],
   "source": [
    "for even in range(2,21,2):\n",
    "    print(even)\n",
    "# It prints all the even numbers     "
   ]
  },
  {
   "cell_type": "code",
   "execution_count": 8,
   "id": "0f04708f",
   "metadata": {},
   "outputs": [
    {
     "name": "stdout",
     "output_type": "stream",
     "text": [
      "30\n",
      "28\n",
      "26\n",
      "24\n",
      "22\n",
      "20\n",
      "18\n",
      "16\n",
      "14\n",
      "12\n",
      "10\n",
      "8\n",
      "6\n",
      "4\n",
      "2\n"
     ]
    }
   ],
   "source": [
    "# The positive stepping starting from left to right and (-)negative starts from right to left\n",
    "for nw in range(30,1,-2):\n",
    "    print(nw)\n",
    "    \n",
    "# it prints all the even numbers in reverse direction    "
   ]
  },
  {
   "cell_type": "code",
   "execution_count": null,
   "id": "dbedd0c3",
   "metadata": {},
   "outputs": [],
   "source": []
  }
 ],
 "metadata": {
  "kernelspec": {
   "display_name": "Python 3 (ipykernel)",
   "language": "python",
   "name": "python3"
  },
  "language_info": {
   "codemirror_mode": {
    "name": "ipython",
    "version": 3
   },
   "file_extension": ".py",
   "mimetype": "text/x-python",
   "name": "python",
   "nbconvert_exporter": "python",
   "pygments_lexer": "ipython3",
   "version": "3.9.12"
  }
 },
 "nbformat": 4,
 "nbformat_minor": 5
}
